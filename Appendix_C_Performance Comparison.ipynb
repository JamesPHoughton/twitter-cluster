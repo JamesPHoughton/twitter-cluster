{
 "cells": [
  {
   "cell_type": "markdown",
   "metadata": {},
   "source": [
    "## Appendix C: Performance Comparison\n",
    "\n",
    "The scripts listed in appendices A and B were run on an 8 Core Intel 64 bit 3.2Ghz processor with 48gb ram, for messages over the date range  \n",
    "\n",
    "Step                                | Python Runtime | Unicage Runtime\n",
    ":---------------------------------- | :------------: | :-------------:\n",
    "1. Counting Hashtag Pairs           |  14h:34m:33s   |\n",
    "2. Weighted Edgelists               |  00h:00m:10s   |\n",
    "3. Unweighted Edgelists             |  00h:13m:36s   |\n",
    "4. Maximal Clique Identification    |  00h:10m:13s   | \n",
    "5. k-Clique Percolation             |  00h:05m:45s   |\n",
    "6. Mapping back to Text             |  00h:19m:56s   |\n",
    "7. Computing transition likelihoods |  00h:03m:15s   |\n",
    "\n",
    "\n"
   ]
  },
  {
   "cell_type": "code",
   "execution_count": null,
   "metadata": {
    "collapsed": true
   },
   "outputs": [],
   "source": []
  }
 ],
 "metadata": {
  "kernelspec": {
   "display_name": "Python 2",
   "language": "python",
   "name": "python2"
  },
  "language_info": {
   "codemirror_mode": {
    "name": "ipython",
    "version": 2
   },
   "file_extension": ".py",
   "mimetype": "text/x-python",
   "name": "python",
   "nbconvert_exporter": "python",
   "pygments_lexer": "ipython2",
   "version": "2.7.10"
  }
 },
 "nbformat": 4,
 "nbformat_minor": 0
}
