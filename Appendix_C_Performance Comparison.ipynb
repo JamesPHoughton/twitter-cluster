{
 "cells": [
  {
   "cell_type": "markdown",
   "metadata": {},
   "source": [
    "## Appendix C: Performance Comparison\n",
    "\n",
    "The scripts listed in appendices A and B were run on an 8 Core Intel 64 bit 3.2Ghz processor with 48gb ram, for messages over the date range  \n",
    "\n",
    "Step                                | Python Runtime | Unicage Runtime\n",
    ":---------------------------------- | :------------: | :-------------:\n",
    "1. Counting Hashtag Pairs           |  38h:34m:33s   | 08h:27m:43s\n",
    "2. Weighted Edgelists               |  00h:00m:10s   | 00h:03m:32s\n",
    "3. Unweighted Edgelists             |  00h:13m:36s   | 00h:08m:11s\n",
    "4. Maximal Clique Identification    |  00h:10m:13s   | 00h:02m:18s\n",
    "5. k-Clique Percolation             |  00h:05m:45s   | 00h:08m:53s\n",
    "6. Mapping back to Text             |  00h:19m:56s   | 00h:09m:56s\n",
    "7. Computing transition likelihoods |  00h:03m:15s   | 05h:47m:51s\n",
    "**Total time**                      | **39h:27m:28s** | **14h:48m:24s**\n",
    "\n"
   ]
  },
  {
   "cell_type": "code",
   "execution_count": 1,
   "metadata": {
    "collapsed": true
   },
   "outputs": [],
   "source": [
    "import glob"
   ]
  },
  {
   "cell_type": "code",
   "execution_count": 5,
   "metadata": {
    "collapsed": false
   },
   "outputs": [
    {
     "name": "stdout",
     "output_type": "stream",
     "text": [
      "unicage created 114 weighted edgelist files\n",
      "python created 242 weighted edgelist files\n"
     ]
    }
   ],
   "source": [
    "#Step 2\n",
    "weighted_files = glob.glob('../UNICAGE/twitter/*/weight*.txt')\n",
    "print 'unicage created %i weighted edgelist files'%len(weighted_files)\n",
    "\n",
    "weighted_files = glob.glob('../PYTHON/working/*/weight*.txt')\n",
    "print 'python created %i weighted edgelist files'%len(weighted_files)\n",
    "\n",
    "# python creates some with no entries, as unicage is just using the available files,\n",
    "# and python is creating one for every date in the range..."
   ]
  },
  {
   "cell_type": "code",
   "execution_count": 6,
   "metadata": {
    "collapsed": false,
    "scrolled": true
   },
   "outputs": [
    {
     "name": "stdout",
     "output_type": "stream",
     "text": [
      "unicage created 1596 unweighted edgelist files\n",
      "python created 3146 unweighted edgelist files\n"
     ]
    }
   ],
   "source": [
    "#Step 3\n",
    "unweighted_files = glob.glob('../UNICAGE/twitter/*/*/unweight*.txt')\n",
    "print 'unicage created %i unweighted edgelist files'%len(unweighted_files)\n",
    "\n",
    "unweighted_files = glob.glob('../PYTHON/working/*/*/unweight*.txt')\n",
    "print 'python created %i unweighted edgelist files'%len(unweighted_files)"
   ]
  },
  {
   "cell_type": "code",
   "execution_count": 7,
   "metadata": {
    "collapsed": false
   },
   "outputs": [
    {
     "name": "stdout",
     "output_type": "stream",
     "text": [
      "unicage created 1596 maxcliques files\n",
      "python created 1417 maxcliques files\n"
     ]
    }
   ],
   "source": [
    "#Step 4\n",
    "maxclique_files = glob.glob('../UNICAGE/twitter/*/*/*.mcliques')\n",
    "print 'unicage created %i maxcliques files'%len(maxclique_files)\n",
    "\n",
    "maxclique_files = glob.glob('../PYTHON/working/*/*/*.mcliques')\n",
    "print 'python created %i maxcliques files'%len(maxclique_files)"
   ]
  },
  {
   "cell_type": "code",
   "execution_count": 9,
   "metadata": {
    "collapsed": false
   },
   "outputs": [
    {
     "name": "stdout",
     "output_type": "stream",
     "text": [
      "unicage created 26446 community files\n",
      "python created 20383 community files\n"
     ]
    }
   ],
   "source": [
    "# Step 5\n",
    "community_files = glob.glob('../UNICAGE/twitter/*/*/[0-9]*communities.txt')\n",
    "print 'unicage created %i community files'%len(community_files)\n",
    "\n",
    "community_files = glob.glob('../PYTHON/working/*/*/[0-9]*communities.txt')\n",
    "print 'python created %i community files'%len(community_files)"
   ]
  },
  {
   "cell_type": "code",
   "execution_count": 11,
   "metadata": {
    "collapsed": false
   },
   "outputs": [
    {
     "name": "stdout",
     "output_type": "stream",
     "text": [
      "unicage created 26446 named community files\n",
      "python created 20383 named community files\n"
     ]
    }
   ],
   "source": [
    "# Step 5\n",
    "named_community_files = glob.glob('../UNICAGE/twitter/*/*/named[0-9]*communities.txt')\n",
    "print 'unicage created %i named community files'%len(named_community_files)\n",
    "\n",
    "named_community_files = glob.glob('../PYTHON/working/*/*/named[0-9]*communities.txt')\n",
    "print 'python created %i named community files'%len(named_community_files)"
   ]
  },
  {
   "cell_type": "code",
   "execution_count": 4,
   "metadata": {
    "collapsed": false
   },
   "outputs": [
    {
     "name": "stdout",
     "output_type": "stream",
     "text": [
      "unicage created 24529 transition matrix files\n",
      "python created 17783 transition matrix files\n"
     ]
    }
   ],
   "source": [
    "#step 7\n",
    "transition_files = glob.glob('../UNICAGE/twitter/*/*/named*_communities_transition.csv')\n",
    "print 'unicage created %i transition matrix files'%len(transition_files)\n",
    "\n",
    "transition_files = glob.glob('../PYTHON/working/*/*/named*_communities_transition.csv')\n",
    "print 'python created %i transition matrix files'%len(transition_files)"
   ]
  },
  {
   "cell_type": "markdown",
   "metadata": {},
   "source": [
    "To me this says that I need to be more careful about how missing conditions are handled..."
   ]
  },
  {
   "cell_type": "code",
   "execution_count": null,
   "metadata": {
    "collapsed": true
   },
   "outputs": [],
   "source": []
  }
 ],
 "metadata": {
  "kernelspec": {
   "display_name": "Python 2",
   "language": "python",
   "name": "python2"
  },
  "language_info": {
   "codemirror_mode": {
    "name": "ipython",
    "version": 2
   },
   "file_extension": ".py",
   "mimetype": "text/x-python",
   "name": "python",
   "nbconvert_exporter": "python",
   "pygments_lexer": "ipython2",
   "version": "2.7.10"
  }
 },
 "nbformat": 4,
 "nbformat_minor": 0
}
