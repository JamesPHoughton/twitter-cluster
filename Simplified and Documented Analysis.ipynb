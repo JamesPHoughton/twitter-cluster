{
 "cells": [
  {
   "cell_type": "markdown",
   "metadata": {},
   "source": [
    "# Track Conversations on twitter via their structure\n",
    "\n",
    "This code takes messages that are on twitter, and extracts their hashtags. It then constructs a set of network diagrams that look at which hashtags show up in the same tweet. The network diagrams are interpreted to have a set of clusters within them, the clusters representing places where hashtags are all related to one another, and thus represent 'conversations' that are happening in the pool of twitter messages. We track similarity between clusters from day to day to investigate how conversations develop."
   ]
  },
  {
   "cell_type": "code",
   "execution_count": null,
   "metadata": {
    "collapsed": false
   },
   "outputs": [],
   "source": [
    "import json\n",
    "import gzip\n",
    "from collections import Counter\n",
    "from itertools import combinations\n",
    "import glob\n",
    "import dateutil.parser\n",
    "import pandas as pd\n",
    "import os.path\n",
    "import numpy as np\n",
    "import datetime"
   ]
  },
  {
   "cell_type": "markdown",
   "metadata": {},
   "source": [
    "We have twitter messages saved as compressed files, where each line in the file is the JSON object that the twitter sample stream returns to us. The files are created by splitting the streaming dataset according to a fixed number of lines - not necessarily by a fixed time or date range. \n",
    "\n",
    "All the files have the format `posts_sample_YYYYMMDD_HHMMSS_aa.txt` where the date listed is the date at which the stream was initialized. Multiple days worth of stream may be grouped under the same second, as long as the stream remains unbroken. If we have to restart the stream, then a new datetime will be added to the files."
   ]
  },
  {
   "cell_type": "code",
   "execution_count": null,
   "metadata": {
    "collapsed": false
   },
   "outputs": [],
   "source": [
    "# Collect a list of all the filenames that will be working with\n",
    "\n",
    "files = glob.glob('/mnt/nfs-marketdepth/houghton/data/twitter/raw/posts_sample*.gz')\n",
    "len(files)"
   ]
  },
  {
   "cell_type": "markdown",
   "metadata": {},
   "source": [
    "Its helpful to have a list of the dates in the range that we'll be looking at, because we can't always just add one to get to the next date. Here we create a list of strings with dates in the format 'YYYYMMDD'. The resulting list looks like:\n",
    "\n",
    "    ['20141101', '20141102', '20141103', ... '20150629', '20150630']"
   ]
  },
  {
   "cell_type": "code",
   "execution_count": null,
   "metadata": {
    "collapsed": true
   },
   "outputs": [],
   "source": [
    "dt = datetime.datetime(2014, 11, 1)\n",
    "end = datetime.datetime(2015, 7, 1)\n",
    "step = datetime.timedelta(days=1)\n",
    "\n",
    "dates = []\n",
    "while dt < end:\n",
    "    dates.append(dt.strftime('%Y%m%d'))\n",
    "    dt += step"
   ]
  },
  {
   "cell_type": "markdown",
   "metadata": {},
   "source": [
    "The most data-intensive part of the analysis is this first piece, which parses all of the input files, and counts the various combinations of hashtags on each day. This code is written out in a procedural way to mimic the way it will be done by unicage - although there are alternatives to this method that we should explore."
   ]
  },
  {
   "cell_type": "code",
   "execution_count": null,
   "metadata": {
    "collapsed": true
   },
   "outputs": [],
   "source": [
    "#construct a counter object for each date\n",
    "tallydict = dict([(date, Counter()) for date in dates])"
   ]
  },
  {
   "cell_type": "code",
   "execution_count": null,
   "metadata": {
    "collapsed": true
   },
   "outputs": [],
   "source": [
    "files = files[750:2000]"
   ]
  },
  {
   "cell_type": "code",
   "execution_count": null,
   "metadata": {
    "collapsed": false,
    "scrolled": false
   },
   "outputs": [],
   "source": [
    "#look one at a time at each of the \n",
    "for zfile in files:\n",
    "    print '.',\n",
    "    try:\n",
    "        with gzip.open(zfile) as gzf:\n",
    "            #look at each line in the file\n",
    "            for line in gzf:\n",
    "                try:\n",
    "                    #parse the json object (in Unicage this will probably be implemented with jq)\n",
    "                    parsed_json = json.loads(line)\n",
    "                    #we only want to look at tweets that are in english, so check that this is the case.\n",
    "                    if parsed_json.has_key('lang'):\n",
    "                        if parsed_json['lang'] =='en':\n",
    "                            #look only at messages with more than two hashtags, \n",
    "                            #as these are the only ones that make connections\n",
    "                            if len(parsed_json['entities']['hashtags']) >=2:\n",
    "                                #extract the hashtags to a list \n",
    "                                taglist = [entry['text'] for entry in parsed_json['entities']['hashtags']]\n",
    "                                #identify the date in the message - this is important because sometimes \n",
    "                                #messages come out of order.\n",
    "                                date = dateutil.parser.parse(parsed_json['created_at']).strftime(\"%Y%m%d\") \n",
    "                                #look at all the combinations of hashtags in the set\n",
    "                                for pair in combinations(taglist, 2):\n",
    "                                    #count up the number of alpha sorted tag pairs\n",
    "                                    tallydict[date][' '.join(sorted(pair))] += 1\n",
    "                except:\n",
    "                    print 'd',\n",
    "    except:\n",
    "        print 'error in', zfile"
   ]
  },
  {
   "cell_type": "code",
   "execution_count": null,
   "metadata": {
    "collapsed": false
   },
   "outputs": [],
   "source": [
    "files.index('/mnt/nfs-marketdepth/houghton/data/twitter/raw/posts_sample_20141120_123234_bt.gz')"
   ]
  },
  {
   "cell_type": "markdown",
   "metadata": {},
   "source": [
    "Having created this sorted set of tag pairs, we should write these counts to files. We'll create one file for each day. The files themselves will have one pair of words followed by the number of times those hashtags were spotted in combination on each day.\n",
    "\n",
    "```\n",
    "PCMS champs 3\n",
    "TeamFairyRose TeamFollowBack 3\n",
    "instadaily latepost 2\n",
    "LifeGoals happy 2\n",
    "DanielaPadillaHoopsForHope TeamBiogesic 2\n",
    "shoes shopping 5\n",
    "kordon saatc 3\n",
    "DID Leg 3\n",
    "entrepreneur grow 11\n",
    "Authors Spangaloo 2\n",
    "```\n",
    "\n",
    "We'll save these in a very specific directory structure that will simplify keeping track of our data down the road, when we want to do more complex things with it. An example:\n",
    "\n",
    "```\n",
    "twitter/\n",
    "   20141116/\n",
    "       weighted_edges_20141116.txt\n",
    "   20141117/\n",
    "       weighted_edges_20141117.txt\n",
    "   20141118/\n",
    "       weighted_edges_20141118.txt\n",
    "   etc...\n",
    "```\n",
    "\n",
    "We create a row for every combination that has a count of at least two."
   ]
  },
  {
   "cell_type": "code",
   "execution_count": null,
   "metadata": {
    "collapsed": false
   },
   "outputs": [],
   "source": [
    "for key in tallydict.keys(): #keys are datestamps\n",
    "    #create a directory for the date in question\n",
    "    try:\n",
    "        !mkdir $key\n",
    "    except:\n",
    "        print key, 'probably already exists'\n",
    "    with open(key+'/weighted_edges_'+key+'.txt', 'w') as fout: #replace old file, instead of append\n",
    "        for item in tallydict[key].iteritems():\n",
    "            if item[1] >= 2: #throw out the ones that only have one edge in order to simplify things. The threshold will almost certainly be at least 2.\n",
    "                fout.write(item[0].encode('utf8')+' '+str(item[1])+'\\n')\n",
    "\n"
   ]
  },
  {
   "cell_type": "markdown",
   "metadata": {},
   "source": [
    "Now lets get a list of the wieghed edgelist files, which will be helpful later on."
   ]
  },
  {
   "cell_type": "code",
   "execution_count": null,
   "metadata": {
    "collapsed": false
   },
   "outputs": [],
   "source": [
    "weighted_files = glob.glob('*/weight*.txt')\n",
    "weighted_files"
   ]
  },
  {
   "cell_type": "markdown",
   "metadata": {},
   "source": [
    "#Construct unweigheted edgelist\n",
    "\n",
    "We make an unweighted list of edges by throwing out everything below a certain threshold. We'll do this for a range of different thresholds, so that we can compare the results later. Looks like:\n",
    "\n",
    "```\n",
    "FoxNflSunday tvtag\n",
    "android free\n",
    "AZCardinals Lions\n",
    "usa xxx\n",
    "كبلز متحرره\n",
    "CAORU TEAMANGELS\n",
    "RT win\n",
    "FarCry4 Games\n",
    "```\n",
    "\n",
    "We do this for thresholds between 2 and 15 (for now, although we may want to change later) so the directory structure looks like:\n",
    "```\n",
    "twitter/\n",
    "   20141116/\n",
    "       th_02/\n",
    "           unweighted_20141116_th_02.txt\n",
    "       th_03/\n",
    "           unweighted_20141116_th_03.txt\n",
    "       th_04/\n",
    "           unweighted_20141116_th_04.txt\n",
    "       etc...\n",
    "   20151117/\n",
    "       th_02/\n",
    "           unweighted_20141117_th_02.txt\n",
    "       etc...\n",
    "   etc...\n",
    "```\n",
    "\n",
    "Filenames include the date and the threshold, and the fact that these files are unweighted edge lists."
   ]
  },
  {
   "cell_type": "code",
   "execution_count": null,
   "metadata": {
    "collapsed": false
   },
   "outputs": [],
   "source": [
    "for threshold in range (2, 15):\n",
    "    for infile_name in weighted_files:\n",
    "        date_dir, weighted_edgefile = infile_name.split('/')\n",
    "        #create a subdirectory for each threshold we choose\n",
    "        th_dir = date_dir+'/th_%02i'%threshold\n",
    "        !mkdir $th_dir\n",
    "        \n",
    "        #load the weighted edgelists file and filter it to only include values above the threshold\n",
    "        df = pd.read_csv(infile_name, sep=' ', header=None, names=['Tag1', 'Tag2', 'count'])\n",
    "        filtered = df[df['count']>threshold][['Tag1','Tag2']]\n",
    "        \n",
    "        #write out an unweighted edgelist file for each threshold\n",
    "        outfile_name = th_dir+'/unweighted_'+date_dir+'_th_%02i'%threshold+'.txt'\n",
    "        with open(outfile_name, 'w') as fout: #replace old file, instead of append\n",
    "            for index, row in filtered.iterrows():\n",
    "                fout.write(row['Tag1']+' '+row['Tag2']+'\\n')"
   ]
  },
  {
   "cell_type": "markdown",
   "metadata": {},
   "source": [
    "Now lets get a list of all the unweighted edgelist files we created"
   ]
  },
  {
   "cell_type": "code",
   "execution_count": null,
   "metadata": {
    "collapsed": false
   },
   "outputs": [],
   "source": [
    "unweighted_files = glob.glob('*/*/unweight*.txt')\n",
    "unweighted_files[:5]"
   ]
  },
  {
   "cell_type": "markdown",
   "metadata": {},
   "source": [
    "#Find the communities\n",
    "\n",
    "We're using [COS Parallel](http://sourceforge.net/p/cosparallel/wiki/Home/) to identify k-cliques, so we feed each unweighted edge file into the `./maximal_cliques` preprocessor, and then the `./cos` algorithm. \n",
    "\n",
    "The unweighed edgelist files should be in the correct format for `./maximal_cliques` to process at this point. \n",
    "\n",
    "`./maximal_cliques` translates each node name into an integer to make it faster and easier to deal with, and so the output from this file is both a listing of all of the maximal cliques in the network, with an extension `.mcliques`, and a mapping of all of the integer nodenames back to the original text names, having extension `.map`.\n",
    "\n",
    "It is a relatively simple task to feed each unweighed edgelist we generated above into the `./maximal_cliques` algorithm."
   ]
  },
  {
   "cell_type": "code",
   "execution_count": null,
   "metadata": {
    "collapsed": false
   },
   "outputs": [],
   "source": [
    "for infile in unweighted_files:\n",
    "    th_dir = os.path.dirname(infile)\n",
    "    th_file = os.path.basename(infile)\n",
    "    print infile\n",
    "    !cd $th_dir && /home/houghton/tools/cosparallel-0.99/extras/./maximal_cliques $th_file "
   ]
  },
  {
   "cell_type": "markdown",
   "metadata": {},
   "source": [
    "Once this step is complete, we then feed the `.mcliques` output files into the `cosparallel` algorith."
   ]
  },
  {
   "cell_type": "code",
   "execution_count": null,
   "metadata": {
    "collapsed": false
   },
   "outputs": [],
   "source": [
    "maxclique_files = glob.glob('*/*/*.mcliques')\n",
    "maxclique_files[:5]"
   ]
  },
  {
   "cell_type": "code",
   "execution_count": null,
   "metadata": {
    "collapsed": false
   },
   "outputs": [],
   "source": [
    "current_directory = os.getcwd()\n",
    "for infile in maxclique_files:\n",
    "    mc_dir = os.path.dirname(infile)\n",
    "    mc_file = os.path.basename(infile)\n",
    "    print mc_dir, mc_file\n",
    "    !cd $mc_dir && /home/houghton/tools/cosparallel-0.99/./cos $mc_file ; cd $current_directory \n"
   ]
  },
  {
   "cell_type": "markdown",
   "metadata": {},
   "source": [
    "# Translate back from numbers to actual words\n",
    "The algorithms we just ran abstract away from the actual text words and give us a result with integer collections and a map back to the original text. So we apply the map to recover the clusters in terms of their original words, and give each cluster a unique identifier:\n",
    "\n",
    "```\n",
    "0 Ferguson Anonymous HoodsOff OpKKK\n",
    "1 Beauty Deals Skin Hair \n",
    "2 Family gym sauna selfie\n",
    "etc...\n",
    "```\n",
    "\n"
   ]
  },
  {
   "cell_type": "code",
   "execution_count": null,
   "metadata": {
    "collapsed": false
   },
   "outputs": [],
   "source": [
    "community_files = glob.glob('*/*/[0-9]*communities.txt')\n",
    "community_files[:5]"
   ]
  },
  {
   "cell_type": "code",
   "execution_count": null,
   "metadata": {
    "collapsed": false
   },
   "outputs": [],
   "source": [
    "#we'll be reading a lot of files like this, so it makes sense to create a function to help with it.\n",
    "def read_cluster_file(infile_name):\n",
    "    \"\"\" take a file output from COS and return a dictionary\n",
    "    with keys being the integer cluster name, and \n",
    "    elements being a set of the keywords in that cluster\"\"\"\n",
    "    clusters = dict()\n",
    "    with open(infile_name, 'r') as fin:\n",
    "        for i, line in enumerate(fin):\n",
    "            name = line.split(':')[0] #the name of the cluster is the bit before the colon\n",
    "            if not clusters.has_key(name):\n",
    "                clusters[name] = set()\n",
    "            #the elements of the cluster are after the colon, space delimited\n",
    "            nodes = line.split(':')[1].split(' ')[:-1] \n",
    "            for node in nodes:\n",
    "                clusters[name].add(int(node))\n",
    "    return clusters        \n",
    "\n",
    "\n",
    "current_directory = os.getcwd()\n",
    "for infile in community_files:\n",
    "    c_dir = os.path.dirname(infile)\n",
    "    c_file = os.path.basename(infile)\n",
    "    \n",
    "    #load the map into a pandas series to make it easy to translate\n",
    "    map_filename = glob.glob('%s/*.map'%c_dir)\n",
    "    mapping = pd.read_csv(map_filename[0], sep=' ', header=None, names=['word', 'number'], index_col='number')\n",
    "\n",
    "    clusters = read_cluster_file(infile)\n",
    "    #create a named cluster file in the same directory\n",
    "    with open(c_dir+'/named'+c_file, 'w') as fout:\n",
    "        for name, nodes in clusters.iteritems():\n",
    "            fout.write(' '.join([str(name)]+[mapping.loc[int(node)]['word'] for node in list(nodes)]+['\\n']))"
   ]
  },
  {
   "cell_type": "markdown",
   "metadata": {},
   "source": [
    "While we're at it, we'll write a function to read the files we're creating"
   ]
  },
  {
   "cell_type": "code",
   "execution_count": null,
   "metadata": {
    "collapsed": true
   },
   "outputs": [],
   "source": [
    "\n",
    "def read_named_cluster_file(infile_name):\n",
    "    \"\"\" take a file output from COS and return a \"\"\"\n",
    "    clusters = dict()\n",
    "    with open(infile_name, 'r') as fin:\n",
    "        for i, line in enumerate(fin):\n",
    "            name = line.split(' ')[0]\n",
    "            if not clusters.has_key(name):\n",
    "                clusters[int(name)] = set()\n",
    "            nodes = line.split(' ')[1:-1]\n",
    "            for node in nodes:\n",
    "                clusters[int(name)].add(node)\n",
    "    return clusters  "
   ]
  },
  {
   "cell_type": "markdown",
   "metadata": {},
   "source": [
    "##Compute transition likelihoods\n",
    "\n",
    "We want to know how a cluster on one day is related to a cluster on the next day. For now, we'll use a brute-force algorithm of counting the number of nodes in a cluster that are present in each of the subsequent day's cluster. From this we can get a likelihood of sorts for subsequent clusters.\n",
    "\n",
    "We'll define a function that, given the clusers on day 1 and day 2, creates a matrix from the two, with day1 clusters as row elements and day2 clusters as column elements. The entries to the matrix are the number of nodes shared by each cluster."
   ]
  },
  {
   "cell_type": "code",
   "execution_count": null,
   "metadata": {
    "collapsed": false
   },
   "outputs": [],
   "source": [
    "#brute force, without the intra-day clustering\n",
    "def compute_transition_likelihood(current_clusters, next_clusters):\n",
    "    transition_likelihood = np.empty([max(current_clusters.keys())+1, max(next_clusters.keys())+1])\n",
    "    for current_cluster, current_elements in current_clusters.iteritems():\n",
    "        for next_cluster, next_elements in next_clusters.iteritems():\n",
    "            transition_likelihood[current_cluster, next_cluster] = (\n",
    "                           len(current_elements & next_elements) ) #the size of the intersection of the sets\n",
    "    return transition_likelihood\n",
    "\n",
    "\n"
   ]
  },
  {
   "cell_type": "markdown",
   "metadata": {},
   "source": [
    "We want to compute transition matricies for all clusters with every k and every threshold. We'll save the matrix for transitioning from Day1 to Day2 in Day1's folder. In many cases, there won't be an appropriate date/threshold/k combination, so we'll just skip that case."
   ]
  },
  {
   "cell_type": "code",
   "execution_count": null,
   "metadata": {
    "collapsed": false
   },
   "outputs": [],
   "source": [
    "#this should compute and store all of the transition likelihoods\n",
    "\n",
    "for current_date in dates:\n",
    "    next_date = dates[dates.index(current_date)+1]\n",
    "    for threshold in range(2,15):\n",
    "        for k in range(3, 20)\n",
    "            try:\n",
    "                current_file_name = glob.glob(+'%s/th_%02i/named%i_clusters.txt'%(current_date, threshold, k)\n",
    "                next_file_name = glob.glob(+'%s/th_%02i/named%i_clusters.txt'%(next_date, threshold, k)\n",
    "                current_clusters = read_named_cluster_file(current_file_name)\n",
    "                next_clusters = read_named_cluster_file(next_file_name)                           \n",
    "            except:\n",
    "                pass\n",
    "            \n",
    "            transition = compute_transition_likelihood(current_clusters, next_clusters)\n",
    "            transitiondf = pd.DataFrame(data=transition, \n",
    "                                    index=current_clusters.keys(),\n",
    "                                    columns=next_clusters.keys())\n",
    "\n",
    "            transitiondf.to_csv(current_file_name[:-4]+'_transition.csv')\n",
    "\n",
    "        except:\n",
    "            print 'nothing'"
   ]
  },
  {
   "cell_type": "markdown",
   "metadata": {},
   "source": [
    "## View the results\n",
    "Now we've got the first stab at our results, we need to view them. Here are two functions that access the clusters we've created. It probably isn't important to build these up in unicage..."
   ]
  },
  {
   "cell_type": "code",
   "execution_count": null,
   "metadata": {
    "collapsed": false
   },
   "outputs": [],
   "source": [
    "def get_clusters_with_keyword(date, threshold, keyword):\n",
    "\n",
    "    files = pd.DataFrame(glob.glob(date+'/th_%02i'%threshold+'/named*_communities.txt'), columns=['filename'])\n",
    "    files['clique_size']=files['filename'].apply(lambda x: int(x.split('named')[1].split('_')[0])) #brittle\n",
    "    files.sort('clique_size', ascending=False, inplace=True)\n",
    "\n",
    "    outlist = []\n",
    "    \n",
    "    \n",
    "    for index, row in files.iterrows():\n",
    "        clusters = read_named_cluster_file(row['filename'])\n",
    "        for index, cluster_set in clusters.iteritems():\n",
    "            outdict = {}\n",
    "            if keyword in cluster_set:\n",
    "                outdict['date'] = date\n",
    "                outdict['threshold'] = threshold\n",
    "                outdict['keyword'] = keyword\n",
    "                outdict['elements'] = cluster_set\n",
    "                outdict['k-clique'] = row['clique_size']\n",
    "                outdict['name'] = index\n",
    "                outlist.append(outdict)\n",
    "    return outlist\n",
    "#print seed_date+'/th_%02i'%threshold+'/named*_communities.txt'\n",
    "\n",
    "\n",
    "keyword = 'follow'\n",
    "threshold = 2\n",
    "seed_date = '20141118'\n",
    "\n",
    "clusters = get_clusters_with_keyword(seed_date, threshold, keyword)\n",
    "clusters"
   ]
  },
  {
   "cell_type": "code",
   "execution_count": null,
   "metadata": {
    "collapsed": false,
    "scrolled": true
   },
   "outputs": [],
   "source": [
    "def get_next_clusters(seed_cluster):\n",
    "    current_date = seed_cluster['date']\n",
    "    next_date = dates[dates.index(current_date)+1]\n",
    "    print current_date, next_date\n",
    "    \n",
    "    transition_filename = '%s/th_%02i/named%i_communities_transition.csv'%(current_date, \n",
    "                                                                           seed_cluster['threshold'],\n",
    "                                                                           seed_cluster['k-clique'])\n",
    "    transitions = pd.read_csv(transition_filename)\n",
    "    \n",
    "    candidates = transitions.loc[seed_cluster['name']]\n",
    "    candidates /= candidates.sum()\n",
    "    print candidates[candidates>0.1]\n",
    "    \n",
    "    \n",
    "    next_clusters_filename = '%s/th_%02i/named%i_communities.txt'%(next_date,\n",
    "                                                                   seed_cluster['threshold'],\n",
    "                                                                   seed_cluster['k-clique'])\n",
    "    next_clusters = read_named_cluster_file(next_clusters_filename)\n",
    "    return next_clusters\n",
    "\n",
    "    \n",
    "get_next_clusters(clusters[2])"
   ]
  },
  {
   "cell_type": "code",
   "execution_count": null,
   "metadata": {
    "collapsed": true
   },
   "outputs": [],
   "source": []
  }
 ],
 "metadata": {
  "kernelspec": {
   "display_name": "Python 2",
   "language": "python",
   "name": "python2"
  },
  "language_info": {
   "codemirror_mode": {
    "name": "ipython",
    "version": 2
   },
   "file_extension": ".py",
   "mimetype": "text/x-python",
   "name": "python",
   "nbconvert_exporter": "python",
   "pygments_lexer": "ipython2",
   "version": "2.7.6"
  }
 },
 "nbformat": 4,
 "nbformat_minor": 0
}
